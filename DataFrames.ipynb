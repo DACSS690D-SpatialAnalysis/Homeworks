{
  "cells": [
    {
      "cell_type": "markdown",
      "metadata": {
        "id": "QxyRpabf1CqS"
      },
      "source": [
        "<center><img src=\"https://github.com/DACSS-PreProcessing/session1_main/blob/main/pics/LogoSimple.png?raw=true\" width=\"500\"></center>"
      ]
    },
    {
      "cell_type": "markdown",
      "metadata": {
        "id": "ymPHFNEttWh_"
      },
      "source": [
        "\n",
        "\n",
        "# DATA FRAMES in R and Python"
      ]
    },
    {
      "cell_type": "code",
      "execution_count": null,
      "metadata": {
        "id": "oo3FOXWP6ewM"
      },
      "outputs": [],
      "source": [
        "%load_ext rpy2.ipython"
      ]
    },
    {
      "cell_type": "markdown",
      "metadata": {
        "id": "lAgZDJ0FtWiB"
      },
      "source": [
        "**Data frames**  are more complex containers of values. The most common analogy is a spreadsheet."
      ]
    },
    {
      "cell_type": "markdown",
      "metadata": {
        "id": "ptlQ3i-Gk-uk"
      },
      "source": [
        "## 1. Creating"
      ]
    },
    {
      "cell_type": "code",
      "execution_count": null,
      "metadata": {
        "id": "bBT7Zz7NtWiB",
        "outputId": "8a9c907e-a986-4445-a0e7-fc42f3a2aa40",
        "colab": {
          "base_uri": "https://localhost:8080/",
          "height": 206
        }
      },
      "outputs": [
        {
          "output_type": "execute_result",
          "data": {
            "text/plain": [
              "     student  age     edu  country\n",
              "0       Qing   32    Bach    China\n",
              "1  Françoise   33    Bach  Senegal\n",
              "2       Raúl   28  Master   España\n",
              "3      Bjork   30     PhD   Norway\n",
              "4      Marie   29     PhD    Korea"
            ],
            "text/html": [
              "\n",
              "  <div id=\"df-38c9abef-60ef-4a1a-b1ed-a8cdb9694389\" class=\"colab-df-container\">\n",
              "    <div>\n",
              "<style scoped>\n",
              "    .dataframe tbody tr th:only-of-type {\n",
              "        vertical-align: middle;\n",
              "    }\n",
              "\n",
              "    .dataframe tbody tr th {\n",
              "        vertical-align: top;\n",
              "    }\n",
              "\n",
              "    .dataframe thead th {\n",
              "        text-align: right;\n",
              "    }\n",
              "</style>\n",
              "<table border=\"1\" class=\"dataframe\">\n",
              "  <thead>\n",
              "    <tr style=\"text-align: right;\">\n",
              "      <th></th>\n",
              "      <th>student</th>\n",
              "      <th>age</th>\n",
              "      <th>edu</th>\n",
              "      <th>country</th>\n",
              "    </tr>\n",
              "  </thead>\n",
              "  <tbody>\n",
              "    <tr>\n",
              "      <th>0</th>\n",
              "      <td>Qing</td>\n",
              "      <td>32</td>\n",
              "      <td>Bach</td>\n",
              "      <td>China</td>\n",
              "    </tr>\n",
              "    <tr>\n",
              "      <th>1</th>\n",
              "      <td>Françoise</td>\n",
              "      <td>33</td>\n",
              "      <td>Bach</td>\n",
              "      <td>Senegal</td>\n",
              "    </tr>\n",
              "    <tr>\n",
              "      <th>2</th>\n",
              "      <td>Raúl</td>\n",
              "      <td>28</td>\n",
              "      <td>Master</td>\n",
              "      <td>España</td>\n",
              "    </tr>\n",
              "    <tr>\n",
              "      <th>3</th>\n",
              "      <td>Bjork</td>\n",
              "      <td>30</td>\n",
              "      <td>PhD</td>\n",
              "      <td>Norway</td>\n",
              "    </tr>\n",
              "    <tr>\n",
              "      <th>4</th>\n",
              "      <td>Marie</td>\n",
              "      <td>29</td>\n",
              "      <td>PhD</td>\n",
              "      <td>Korea</td>\n",
              "    </tr>\n",
              "  </tbody>\n",
              "</table>\n",
              "</div>\n",
              "    <div class=\"colab-df-buttons\">\n",
              "\n",
              "  <div class=\"colab-df-container\">\n",
              "    <button class=\"colab-df-convert\" onclick=\"convertToInteractive('df-38c9abef-60ef-4a1a-b1ed-a8cdb9694389')\"\n",
              "            title=\"Convert this dataframe to an interactive table.\"\n",
              "            style=\"display:none;\">\n",
              "\n",
              "  <svg xmlns=\"http://www.w3.org/2000/svg\" height=\"24px\" viewBox=\"0 -960 960 960\">\n",
              "    <path d=\"M120-120v-720h720v720H120Zm60-500h600v-160H180v160Zm220 220h160v-160H400v160Zm0 220h160v-160H400v160ZM180-400h160v-160H180v160Zm440 0h160v-160H620v160ZM180-180h160v-160H180v160Zm440 0h160v-160H620v160Z\"/>\n",
              "  </svg>\n",
              "    </button>\n",
              "\n",
              "  <style>\n",
              "    .colab-df-container {\n",
              "      display:flex;\n",
              "      gap: 12px;\n",
              "    }\n",
              "\n",
              "    .colab-df-convert {\n",
              "      background-color: #E8F0FE;\n",
              "      border: none;\n",
              "      border-radius: 50%;\n",
              "      cursor: pointer;\n",
              "      display: none;\n",
              "      fill: #1967D2;\n",
              "      height: 32px;\n",
              "      padding: 0 0 0 0;\n",
              "      width: 32px;\n",
              "    }\n",
              "\n",
              "    .colab-df-convert:hover {\n",
              "      background-color: #E2EBFA;\n",
              "      box-shadow: 0px 1px 2px rgba(60, 64, 67, 0.3), 0px 1px 3px 1px rgba(60, 64, 67, 0.15);\n",
              "      fill: #174EA6;\n",
              "    }\n",
              "\n",
              "    .colab-df-buttons div {\n",
              "      margin-bottom: 4px;\n",
              "    }\n",
              "\n",
              "    [theme=dark] .colab-df-convert {\n",
              "      background-color: #3B4455;\n",
              "      fill: #D2E3FC;\n",
              "    }\n",
              "\n",
              "    [theme=dark] .colab-df-convert:hover {\n",
              "      background-color: #434B5C;\n",
              "      box-shadow: 0px 1px 3px 1px rgba(0, 0, 0, 0.15);\n",
              "      filter: drop-shadow(0px 1px 2px rgba(0, 0, 0, 0.3));\n",
              "      fill: #FFFFFF;\n",
              "    }\n",
              "  </style>\n",
              "\n",
              "    <script>\n",
              "      const buttonEl =\n",
              "        document.querySelector('#df-38c9abef-60ef-4a1a-b1ed-a8cdb9694389 button.colab-df-convert');\n",
              "      buttonEl.style.display =\n",
              "        google.colab.kernel.accessAllowed ? 'block' : 'none';\n",
              "\n",
              "      async function convertToInteractive(key) {\n",
              "        const element = document.querySelector('#df-38c9abef-60ef-4a1a-b1ed-a8cdb9694389');\n",
              "        const dataTable =\n",
              "          await google.colab.kernel.invokeFunction('convertToInteractive',\n",
              "                                                    [key], {});\n",
              "        if (!dataTable) return;\n",
              "\n",
              "        const docLinkHtml = 'Like what you see? Visit the ' +\n",
              "          '<a target=\"_blank\" href=https://colab.research.google.com/notebooks/data_table.ipynb>data table notebook</a>'\n",
              "          + ' to learn more about interactive tables.';\n",
              "        element.innerHTML = '';\n",
              "        dataTable['output_type'] = 'display_data';\n",
              "        await google.colab.output.renderOutput(dataTable, element);\n",
              "        const docLink = document.createElement('div');\n",
              "        docLink.innerHTML = docLinkHtml;\n",
              "        element.appendChild(docLink);\n",
              "      }\n",
              "    </script>\n",
              "  </div>\n",
              "\n",
              "\n",
              "    <div id=\"df-cc4c25db-74af-44dd-8f42-78956e5506d4\">\n",
              "      <button class=\"colab-df-quickchart\" onclick=\"quickchart('df-cc4c25db-74af-44dd-8f42-78956e5506d4')\"\n",
              "                title=\"Suggest charts\"\n",
              "                style=\"display:none;\">\n",
              "\n",
              "<svg xmlns=\"http://www.w3.org/2000/svg\" height=\"24px\"viewBox=\"0 0 24 24\"\n",
              "     width=\"24px\">\n",
              "    <g>\n",
              "        <path d=\"M19 3H5c-1.1 0-2 .9-2 2v14c0 1.1.9 2 2 2h14c1.1 0 2-.9 2-2V5c0-1.1-.9-2-2-2zM9 17H7v-7h2v7zm4 0h-2V7h2v10zm4 0h-2v-4h2v4z\"/>\n",
              "    </g>\n",
              "</svg>\n",
              "      </button>\n",
              "\n",
              "<style>\n",
              "  .colab-df-quickchart {\n",
              "      --bg-color: #E8F0FE;\n",
              "      --fill-color: #1967D2;\n",
              "      --hover-bg-color: #E2EBFA;\n",
              "      --hover-fill-color: #174EA6;\n",
              "      --disabled-fill-color: #AAA;\n",
              "      --disabled-bg-color: #DDD;\n",
              "  }\n",
              "\n",
              "  [theme=dark] .colab-df-quickchart {\n",
              "      --bg-color: #3B4455;\n",
              "      --fill-color: #D2E3FC;\n",
              "      --hover-bg-color: #434B5C;\n",
              "      --hover-fill-color: #FFFFFF;\n",
              "      --disabled-bg-color: #3B4455;\n",
              "      --disabled-fill-color: #666;\n",
              "  }\n",
              "\n",
              "  .colab-df-quickchart {\n",
              "    background-color: var(--bg-color);\n",
              "    border: none;\n",
              "    border-radius: 50%;\n",
              "    cursor: pointer;\n",
              "    display: none;\n",
              "    fill: var(--fill-color);\n",
              "    height: 32px;\n",
              "    padding: 0;\n",
              "    width: 32px;\n",
              "  }\n",
              "\n",
              "  .colab-df-quickchart:hover {\n",
              "    background-color: var(--hover-bg-color);\n",
              "    box-shadow: 0 1px 2px rgba(60, 64, 67, 0.3), 0 1px 3px 1px rgba(60, 64, 67, 0.15);\n",
              "    fill: var(--button-hover-fill-color);\n",
              "  }\n",
              "\n",
              "  .colab-df-quickchart-complete:disabled,\n",
              "  .colab-df-quickchart-complete:disabled:hover {\n",
              "    background-color: var(--disabled-bg-color);\n",
              "    fill: var(--disabled-fill-color);\n",
              "    box-shadow: none;\n",
              "  }\n",
              "\n",
              "  .colab-df-spinner {\n",
              "    border: 2px solid var(--fill-color);\n",
              "    border-color: transparent;\n",
              "    border-bottom-color: var(--fill-color);\n",
              "    animation:\n",
              "      spin 1s steps(1) infinite;\n",
              "  }\n",
              "\n",
              "  @keyframes spin {\n",
              "    0% {\n",
              "      border-color: transparent;\n",
              "      border-bottom-color: var(--fill-color);\n",
              "      border-left-color: var(--fill-color);\n",
              "    }\n",
              "    20% {\n",
              "      border-color: transparent;\n",
              "      border-left-color: var(--fill-color);\n",
              "      border-top-color: var(--fill-color);\n",
              "    }\n",
              "    30% {\n",
              "      border-color: transparent;\n",
              "      border-left-color: var(--fill-color);\n",
              "      border-top-color: var(--fill-color);\n",
              "      border-right-color: var(--fill-color);\n",
              "    }\n",
              "    40% {\n",
              "      border-color: transparent;\n",
              "      border-right-color: var(--fill-color);\n",
              "      border-top-color: var(--fill-color);\n",
              "    }\n",
              "    60% {\n",
              "      border-color: transparent;\n",
              "      border-right-color: var(--fill-color);\n",
              "    }\n",
              "    80% {\n",
              "      border-color: transparent;\n",
              "      border-right-color: var(--fill-color);\n",
              "      border-bottom-color: var(--fill-color);\n",
              "    }\n",
              "    90% {\n",
              "      border-color: transparent;\n",
              "      border-bottom-color: var(--fill-color);\n",
              "    }\n",
              "  }\n",
              "</style>\n",
              "\n",
              "      <script>\n",
              "        async function quickchart(key) {\n",
              "          const quickchartButtonEl =\n",
              "            document.querySelector('#' + key + ' button');\n",
              "          quickchartButtonEl.disabled = true;  // To prevent multiple clicks.\n",
              "          quickchartButtonEl.classList.add('colab-df-spinner');\n",
              "          try {\n",
              "            const charts = await google.colab.kernel.invokeFunction(\n",
              "                'suggestCharts', [key], {});\n",
              "          } catch (error) {\n",
              "            console.error('Error during call to suggestCharts:', error);\n",
              "          }\n",
              "          quickchartButtonEl.classList.remove('colab-df-spinner');\n",
              "          quickchartButtonEl.classList.add('colab-df-quickchart-complete');\n",
              "        }\n",
              "        (() => {\n",
              "          let quickchartButtonEl =\n",
              "            document.querySelector('#df-cc4c25db-74af-44dd-8f42-78956e5506d4 button');\n",
              "          quickchartButtonEl.style.display =\n",
              "            google.colab.kernel.accessAllowed ? 'block' : 'none';\n",
              "        })();\n",
              "      </script>\n",
              "    </div>\n",
              "\n",
              "  <div id=\"id_b713cb5f-46e9-4cbd-8f8d-43097c9658fd\">\n",
              "    <style>\n",
              "      .colab-df-generate {\n",
              "        background-color: #E8F0FE;\n",
              "        border: none;\n",
              "        border-radius: 50%;\n",
              "        cursor: pointer;\n",
              "        display: none;\n",
              "        fill: #1967D2;\n",
              "        height: 32px;\n",
              "        padding: 0 0 0 0;\n",
              "        width: 32px;\n",
              "      }\n",
              "\n",
              "      .colab-df-generate:hover {\n",
              "        background-color: #E2EBFA;\n",
              "        box-shadow: 0px 1px 2px rgba(60, 64, 67, 0.3), 0px 1px 3px 1px rgba(60, 64, 67, 0.15);\n",
              "        fill: #174EA6;\n",
              "      }\n",
              "\n",
              "      [theme=dark] .colab-df-generate {\n",
              "        background-color: #3B4455;\n",
              "        fill: #D2E3FC;\n",
              "      }\n",
              "\n",
              "      [theme=dark] .colab-df-generate:hover {\n",
              "        background-color: #434B5C;\n",
              "        box-shadow: 0px 1px 3px 1px rgba(0, 0, 0, 0.15);\n",
              "        filter: drop-shadow(0px 1px 2px rgba(0, 0, 0, 0.3));\n",
              "        fill: #FFFFFF;\n",
              "      }\n",
              "    </style>\n",
              "    <button class=\"colab-df-generate\" onclick=\"generateWithVariable('studentsP')\"\n",
              "            title=\"Generate code using this dataframe.\"\n",
              "            style=\"display:none;\">\n",
              "\n",
              "  <svg xmlns=\"http://www.w3.org/2000/svg\" height=\"24px\"viewBox=\"0 0 24 24\"\n",
              "       width=\"24px\">\n",
              "    <path d=\"M7,19H8.4L18.45,9,17,7.55,7,17.6ZM5,21V16.75L18.45,3.32a2,2,0,0,1,2.83,0l1.4,1.43a1.91,1.91,0,0,1,.58,1.4,1.91,1.91,0,0,1-.58,1.4L9.25,21ZM18.45,9,17,7.55Zm-12,3A5.31,5.31,0,0,0,4.9,8.1,5.31,5.31,0,0,0,1,6.5,5.31,5.31,0,0,0,4.9,4.9,5.31,5.31,0,0,0,6.5,1,5.31,5.31,0,0,0,8.1,4.9,5.31,5.31,0,0,0,12,6.5,5.46,5.46,0,0,0,6.5,12Z\"/>\n",
              "  </svg>\n",
              "    </button>\n",
              "    <script>\n",
              "      (() => {\n",
              "      const buttonEl =\n",
              "        document.querySelector('#id_b713cb5f-46e9-4cbd-8f8d-43097c9658fd button.colab-df-generate');\n",
              "      buttonEl.style.display =\n",
              "        google.colab.kernel.accessAllowed ? 'block' : 'none';\n",
              "\n",
              "      buttonEl.onclick = () => {\n",
              "        google.colab.notebook.generateWithVariable('studentsP');\n",
              "      }\n",
              "      })();\n",
              "    </script>\n",
              "  </div>\n",
              "\n",
              "    </div>\n",
              "  </div>\n"
            ],
            "application/vnd.google.colaboratory.intrinsic+json": {
              "type": "dataframe",
              "variable_name": "studentsP",
              "summary": "{\n  \"name\": \"studentsP\",\n  \"rows\": 5,\n  \"fields\": [\n    {\n      \"column\": \"student\",\n      \"properties\": {\n        \"dtype\": \"string\",\n        \"num_unique_values\": 5,\n        \"samples\": [\n          \"Fran\\u00e7oise\",\n          \"Marie\",\n          \"Ra\\u00fal\"\n        ],\n        \"semantic_type\": \"\",\n        \"description\": \"\"\n      }\n    },\n    {\n      \"column\": \"age\",\n      \"properties\": {\n        \"dtype\": \"number\",\n        \"std\": 2,\n        \"min\": 28,\n        \"max\": 33,\n        \"num_unique_values\": 5,\n        \"samples\": [\n          33,\n          29,\n          28\n        ],\n        \"semantic_type\": \"\",\n        \"description\": \"\"\n      }\n    },\n    {\n      \"column\": \"edu\",\n      \"properties\": {\n        \"dtype\": \"string\",\n        \"num_unique_values\": 3,\n        \"samples\": [\n          \"Bach\",\n          \"Master\",\n          \"PhD\"\n        ],\n        \"semantic_type\": \"\",\n        \"description\": \"\"\n      }\n    },\n    {\n      \"column\": \"country\",\n      \"properties\": {\n        \"dtype\": \"string\",\n        \"num_unique_values\": 5,\n        \"samples\": [\n          \"Senegal\",\n          \"Korea\",\n          \"Espa\\u00f1a\"\n        ],\n        \"semantic_type\": \"\",\n        \"description\": \"\"\n      }\n    }\n  ]\n}"
            }
          },
          "metadata": {},
          "execution_count": 2
        }
      ],
      "source": [
        "namesP=[\"Qing\", \"Françoise\", \"Raúl\", \"Bjork\",\"Marie\"]\n",
        "agesP=[32,33,28,30,29]\n",
        "countryP=[\"China\", \"Senegal\", \"España\", \"Norway\",\"Korea\"]\n",
        "educationP=[\"Bach\", \"Bach\", \"Master\", \"PhD\",\"PhD\"]\n",
        "\n",
        "classroomP=dict(student=namesP,age=agesP,edu=educationP,country=countryP)\n",
        "\n",
        "import pandas as pd\n",
        "\n",
        "# our data frame:\n",
        "studentsP=pd.DataFrame(classroomP)\n",
        "## see it:\n",
        "studentsP\n"
      ]
    },
    {
      "cell_type": "code",
      "execution_count": null,
      "metadata": {
        "id": "gjhRpgTSiCI4",
        "outputId": "3cd73b77-2c3c-4649-c513-1787a15f9037",
        "colab": {
          "base_uri": "https://localhost:8080/"
        }
      },
      "outputs": [
        {
          "output_type": "stream",
          "name": "stdout",
          "text": [
            "    student age    edu country\n",
            "1      Qing  32   Bach   China\n",
            "2 Françoise  33   Bach Senegal\n",
            "3      Raúl  28 Master  España\n",
            "4     Bjork  30    PhD  Norway\n",
            "5     Marie  29    PhD   Korea\n"
          ]
        }
      ],
      "source": [
        "\n",
        "%%R\n",
        "namesR=c(\"Qing\", \"Françoise\", \"Raúl\", \"Bjork\",\"Marie\")\n",
        "agesR=c(32,33,28,30,29)\n",
        "countryR=c(\"China\", \"Senegal\", \"España\", \"Norway\",\"Korea\")\n",
        "educationR=c(\"Bach\", \"Bach\", \"Master\", \"PhD\",\"PhD\")\n",
        "\n",
        "classroomR=list(student=namesR,age=agesR,edu=educationR,country=countryR)\n",
        "\n",
        "studentsR=data.frame(classroomR)\n",
        "\n",
        "studentsR"
      ]
    },
    {
      "cell_type": "markdown",
      "metadata": {
        "id": "VO2eTk8fo88J"
      },
      "source": [
        "## 2. Accessing"
      ]
    },
    {
      "cell_type": "code",
      "execution_count": null,
      "metadata": {
        "id": "Q6D3OadVo8Dx"
      },
      "outputs": [],
      "source": [
        "studentsP.iloc[:,0] # \":\" means 'all'; \"iloc\" requests positions (indices)"
      ]
    },
    {
      "cell_type": "code",
      "execution_count": null,
      "metadata": {
        "id": "jqNciVtHpeHu"
      },
      "outputs": [],
      "source": [
        "%%R\n",
        "studentsR[,1] # \"\" means 'all'."
      ]
    },
    {
      "cell_type": "code",
      "execution_count": null,
      "metadata": {
        "id": "IpfXomy_zxzz"
      },
      "outputs": [],
      "source": [
        "studentsP.iloc[:,[1,2]] # indices in a list"
      ]
    },
    {
      "cell_type": "code",
      "execution_count": null,
      "metadata": {
        "id": "rBeO4gznz4lO"
      },
      "outputs": [],
      "source": [
        "%%R\n",
        "studentsR[,c(2,3)] # indices in a vector"
      ]
    },
    {
      "cell_type": "code",
      "execution_count": null,
      "metadata": {
        "id": "JuFeSvd5zBg8"
      },
      "outputs": [],
      "source": [
        "studentsP.loc[:,'student'] # \"loc\" requires labels (not positions)"
      ]
    },
    {
      "cell_type": "code",
      "execution_count": null,
      "metadata": {
        "id": "JehAZGwSzL0I"
      },
      "outputs": [],
      "source": [
        "%%R\n",
        "studentsR[,'student'] # also valid in R"
      ]
    },
    {
      "cell_type": "code",
      "execution_count": null,
      "metadata": {
        "id": "ipGWIyLY0FwF"
      },
      "outputs": [],
      "source": [
        "studentsP.loc[:,['student','edu']]"
      ]
    },
    {
      "cell_type": "code",
      "execution_count": null,
      "metadata": {
        "id": "Dosf9MGw0LFo"
      },
      "outputs": [],
      "source": [
        "%%R\n",
        "studentsR[,c('student','edu')]"
      ]
    },
    {
      "cell_type": "code",
      "execution_count": null,
      "metadata": {
        "id": "HEho8O-Qzhg_"
      },
      "outputs": [],
      "source": [
        "studentsP.student # alternative (use it if no spaces)"
      ]
    },
    {
      "cell_type": "code",
      "execution_count": null,
      "metadata": {
        "id": "lLETxYlRzkly"
      },
      "outputs": [],
      "source": [
        "%%R\n",
        "studentsR$student # one column in R (use $)"
      ]
    },
    {
      "cell_type": "code",
      "execution_count": null,
      "metadata": {
        "id": "8CrH_RDl0Yai"
      },
      "outputs": [],
      "source": [
        "studentsP.loc[2,'student'] # row with label 2, info about 'student'"
      ]
    },
    {
      "cell_type": "code",
      "execution_count": null,
      "metadata": {
        "id": "dVxgKuzmpaWn"
      },
      "outputs": [],
      "source": [
        "studentsP.iloc[2,0] # row with position 2, info about 'student'"
      ]
    },
    {
      "cell_type": "code",
      "execution_count": null,
      "metadata": {
        "id": "GGCf8aq70ebJ"
      },
      "outputs": [],
      "source": [
        "%%R\n",
        "studentsR[3,'student']"
      ]
    },
    {
      "cell_type": "code",
      "execution_count": null,
      "metadata": {
        "id": "3PLGlQW800kq"
      },
      "outputs": [],
      "source": [
        "studentsP.loc[[2,4],['student','edu']]"
      ]
    },
    {
      "cell_type": "code",
      "execution_count": null,
      "metadata": {
        "id": "zfzHOgUW1ARL"
      },
      "outputs": [],
      "source": [
        "%%R\n",
        "studentsR[c(3,5),c('student','edu')]"
      ]
    },
    {
      "cell_type": "markdown",
      "metadata": {
        "id": "7lZ3PS2l1csl"
      },
      "source": [
        "## 3. Replacing"
      ]
    },
    {
      "cell_type": "code",
      "execution_count": null,
      "metadata": {
        "id": "xkDjthPK1_NL"
      },
      "outputs": [],
      "source": [
        "studentsP.loc[2,'student']='Lito'\n",
        "studentsP"
      ]
    },
    {
      "cell_type": "code",
      "execution_count": null,
      "metadata": {
        "id": "qbCog4MX2R3l"
      },
      "outputs": [],
      "source": [
        "%%R\n",
        "\n",
        "studentsR[3,'student']='Lito'\n",
        "studentsR"
      ]
    },
    {
      "cell_type": "code",
      "execution_count": null,
      "metadata": {
        "id": "AH3my_f73VPM"
      },
      "outputs": [],
      "source": [
        "studentsP.loc[[2,4],'age']=[32,31]\n",
        "studentsP"
      ]
    },
    {
      "cell_type": "code",
      "execution_count": null,
      "metadata": {
        "id": "2mj_iEWN5WWp"
      },
      "outputs": [],
      "source": [
        "%%R\n",
        "\n",
        "studentsR[c(3,5),'age']=c(32,31)\n",
        "studentsR"
      ]
    },
    {
      "cell_type": "markdown",
      "metadata": {
        "id": "irc_DriD7BL8"
      },
      "source": [
        "## 4. Deleting"
      ]
    },
    {
      "cell_type": "code",
      "execution_count": null,
      "metadata": {
        "id": "DDTZkXaksrJC"
      },
      "outputs": [],
      "source": [
        "# make copy\n",
        "studentsP_new=studentsP.copy()"
      ]
    },
    {
      "cell_type": "code",
      "execution_count": null,
      "metadata": {
        "id": "I7AztkXis0Y-"
      },
      "outputs": [],
      "source": [
        "%%R\n",
        "# make copy\n",
        "studentsR_new=studentsR"
      ]
    },
    {
      "cell_type": "markdown",
      "metadata": {
        "id": "kNZPGMXCtWjH"
      },
      "source": [
        "### Deleting rows\n"
      ]
    },
    {
      "cell_type": "code",
      "execution_count": null,
      "metadata": {
        "id": "z-DeQOPatWjH"
      },
      "outputs": [],
      "source": [
        "byeRows=[2,3]\n",
        "studentsP_new.drop(index=byeRows,inplace=True) #inplace=inmediately\n",
        "#then\n",
        "studentsP_new"
      ]
    },
    {
      "cell_type": "markdown",
      "metadata": {
        "id": "F_CZVds5tWjJ"
      },
      "source": [
        "As you see, the indexes dissapeared. Then, you should reset the indexes:"
      ]
    },
    {
      "cell_type": "code",
      "execution_count": null,
      "metadata": {
        "id": "6jfrFl1LtWjJ"
      },
      "outputs": [],
      "source": [
        "studentsP_new.reset_index(drop=True,inplace=True)\n",
        "#then\n",
        "studentsP_new"
      ]
    },
    {
      "cell_type": "code",
      "execution_count": null,
      "metadata": {
        "id": "tNu6lZWW75kK"
      },
      "outputs": [],
      "source": [
        "%%R\n",
        "byeRows=c(3,4)\n",
        "studentsR_new=studentsR_new[-byeRows,] # rewriting (NO 'inplace')\n",
        "#then\n",
        "studentsR_new"
      ]
    },
    {
      "cell_type": "code",
      "execution_count": null,
      "metadata": {
        "id": "dCcEI9osuwAz"
      },
      "outputs": [],
      "source": [
        "%%R\n",
        "#reset indexes\n",
        "row.names(studentsR_new)=NULL\n",
        "#then\n",
        "studentsR_new"
      ]
    },
    {
      "cell_type": "markdown",
      "metadata": {
        "id": "umb6K9uytWi8"
      },
      "source": [
        "### Deleting columns"
      ]
    },
    {
      "cell_type": "code",
      "execution_count": null,
      "metadata": {
        "id": "f5wrE0oNtWi_"
      },
      "outputs": [],
      "source": [
        "# This is what you want get rid of:\n",
        "byeColumns=['edu'] # you can delete more than one\n",
        "\n",
        "#this is the result\n",
        "studentsP_new.drop(columns=byeColumns,inplace=True)\n",
        "#then\n",
        "studentsP_new"
      ]
    },
    {
      "cell_type": "code",
      "execution_count": null,
      "metadata": {
        "id": "iugn8DE6-_vI"
      },
      "outputs": [],
      "source": [
        "%%R\n",
        "\n",
        "byeColumns=c('edu') # this doesn't work: studentsR_new[,-byeColumns]\n",
        "keepCols=setdiff(names(studentsR_new),byeColumns)\n",
        "studentsR_new=studentsR_new[,keepCols]\n",
        "#then\n",
        "studentsR_new\n"
      ]
    },
    {
      "cell_type": "markdown",
      "metadata": {
        "id": "JtogOkiQziXv"
      },
      "source": [
        "### Deleting cells"
      ]
    },
    {
      "cell_type": "code",
      "execution_count": null,
      "metadata": {
        "id": "gh75yvaxzeCC"
      },
      "outputs": [],
      "source": [
        "studentsP_new.loc[2,'country']=pd.NA\n",
        "#then\n",
        "studentsP_new\n"
      ]
    },
    {
      "cell_type": "code",
      "execution_count": null,
      "metadata": {
        "id": "798EEio11LRF"
      },
      "outputs": [],
      "source": [
        "%%R\n",
        "studentsR_new[3,'country']=NA\n",
        "#then\n",
        "studentsR_new"
      ]
    },
    {
      "cell_type": "markdown",
      "metadata": {
        "id": "jurIHo8xLZVb"
      },
      "source": [
        "## Inserting"
      ]
    },
    {
      "cell_type": "code",
      "execution_count": null,
      "metadata": {
        "id": "WBgj0NrexcHN"
      },
      "outputs": [],
      "source": [
        "#currently\n",
        "studentsP"
      ]
    },
    {
      "cell_type": "code",
      "execution_count": null,
      "metadata": {
        "id": "GBCT012MLc6d"
      },
      "outputs": [],
      "source": [
        "femaleP=[True,True,False,False,True]\n",
        "studentsP1=studentsP.assign(female=femaleP)\n",
        "#then\n",
        "studentsP1"
      ]
    },
    {
      "cell_type": "code",
      "execution_count": null,
      "metadata": {
        "id": "KTMTMfAkN14M"
      },
      "outputs": [],
      "source": [
        "#another way\n",
        "studentsP2=studentsP.copy()\n",
        "studentsP2['female']=femaleP\n",
        "#then\n",
        "studentsP2"
      ]
    },
    {
      "cell_type": "code",
      "execution_count": null,
      "metadata": {
        "id": "akbCZgdjNZJb"
      },
      "outputs": [],
      "source": [
        "#yet another way\n",
        "studentsP3=studentsP.copy()\n",
        "studentsP3.loc[:,'female']=femaleP\n",
        "studentsP3"
      ]
    },
    {
      "cell_type": "code",
      "execution_count": null,
      "metadata": {
        "id": "XYPl85yEPHdv"
      },
      "outputs": [],
      "source": [
        "%%R\n",
        "femaleR=c(T,T,F,F,T)\n",
        "studentsR1=cbind(studentsR,female=femaleR)\n",
        "studentsR1"
      ]
    },
    {
      "cell_type": "code",
      "execution_count": null,
      "metadata": {
        "id": "oaqD2n83OgtN"
      },
      "outputs": [],
      "source": [
        "%%R\n",
        "studentsR2=studentsR\n",
        "studentsR2$female=femaleR\n",
        "studentsR2"
      ]
    },
    {
      "cell_type": "code",
      "execution_count": null,
      "metadata": {
        "id": "___kNEQ4PpJJ"
      },
      "outputs": [],
      "source": [
        "%%R\n",
        "studentsR3=studentsR\n",
        "studentsR3[,'female']=femaleR\n",
        "studentsR3"
      ]
    },
    {
      "cell_type": "markdown",
      "metadata": {
        "id": "R13g85HDtWiR"
      },
      "source": [
        "## Other basic operations"
      ]
    },
    {
      "cell_type": "code",
      "execution_count": null,
      "metadata": {
        "id": "VRaEn3gptWiR"
      },
      "outputs": [],
      "source": [
        "# data of structure: list? tuple? dataframe?\n",
        "type(studentsP)"
      ]
    },
    {
      "cell_type": "code",
      "execution_count": null,
      "metadata": {
        "id": "M8lBhAxYBMZ4"
      },
      "outputs": [],
      "source": [
        "%%R\n",
        "class(studentsR)"
      ]
    },
    {
      "cell_type": "code",
      "execution_count": null,
      "metadata": {
        "id": "G1MRSmdetWiV"
      },
      "outputs": [],
      "source": [
        "# type of data in data frame column\n",
        "studentsP.info()"
      ]
    },
    {
      "cell_type": "code",
      "execution_count": null,
      "metadata": {
        "id": "XU7LZVYitWiZ"
      },
      "outputs": [],
      "source": [
        "# details of data frame\n",
        "%%R\n",
        "\n",
        "str(studentsR)"
      ]
    },
    {
      "cell_type": "code",
      "execution_count": null,
      "metadata": {
        "id": "RBT60oJvtWid"
      },
      "outputs": [],
      "source": [
        "# number of rows and columns\n",
        "studentsP.shape"
      ]
    },
    {
      "cell_type": "code",
      "execution_count": null,
      "metadata": {
        "id": "rzN79pLyBjwK"
      },
      "outputs": [],
      "source": [
        "%%R\n",
        "dim(studentsR)"
      ]
    },
    {
      "cell_type": "code",
      "execution_count": null,
      "metadata": {
        "id": "EaA4xitwtWif"
      },
      "outputs": [],
      "source": [
        "# number of rows:\n",
        "len(studentsP)"
      ]
    },
    {
      "cell_type": "code",
      "execution_count": null,
      "metadata": {
        "id": "4q_W0LL6B2ct"
      },
      "outputs": [],
      "source": [
        "%%R\n",
        "\n",
        "length(studentsR)"
      ]
    },
    {
      "cell_type": "code",
      "execution_count": null,
      "metadata": {
        "id": "9Vpvd-7RtWij"
      },
      "outputs": [],
      "source": [
        "# first rows\n",
        "studentsP.head(2) # compare with: studentsP.tail(2)"
      ]
    },
    {
      "cell_type": "code",
      "execution_count": null,
      "metadata": {
        "id": "CK5Ly1H_CAHy"
      },
      "outputs": [],
      "source": [
        "%%R\n",
        "head(studentsR,2) # compare with: tail(studentsR,2)"
      ]
    },
    {
      "cell_type": "code",
      "execution_count": null,
      "metadata": {
        "id": "QHsnwLhgtWik"
      },
      "outputs": [],
      "source": [
        "# names of variables\n",
        "studentsP.columns"
      ]
    },
    {
      "cell_type": "code",
      "execution_count": null,
      "metadata": {
        "id": "yLxgD_CWCKOu"
      },
      "outputs": [],
      "source": [
        "%%R\n",
        "names(studentsR)"
      ]
    },
    {
      "cell_type": "code",
      "source": [
        "# names in rows\n",
        "studentsP.index"
      ],
      "metadata": {
        "id": "6wGiCjYGUjd8"
      },
      "execution_count": null,
      "outputs": []
    },
    {
      "cell_type": "code",
      "source": [
        "%%R\n",
        "rownames(studentsR)"
      ],
      "metadata": {
        "id": "Gds7dW82Ur13"
      },
      "execution_count": null,
      "outputs": []
    },
    {
      "cell_type": "code",
      "source": [],
      "metadata": {
        "id": "Eqyery7MUzSp"
      },
      "execution_count": null,
      "outputs": []
    }
  ],
  "metadata": {
    "anaconda-cloud": {
      "attach-environment": true,
      "summary": "test"
    },
    "colab": {
      "provenance": [],
      "collapsed_sections": [
        "ptlQ3i-Gk-uk"
      ],
      "toc_visible": true
    },
    "hide_input": false,
    "kernelspec": {
      "display_name": "Python 3 (ipykernel)",
      "language": "python",
      "name": "python3"
    },
    "language_info": {
      "codemirror_mode": {
        "name": "ipython",
        "version": 3
      },
      "file_extension": ".py",
      "mimetype": "text/x-python",
      "name": "python",
      "nbconvert_exporter": "python",
      "pygments_lexer": "ipython3",
      "version": "3.12.0"
    }
  },
  "nbformat": 4,
  "nbformat_minor": 0
}